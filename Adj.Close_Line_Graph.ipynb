{
 "cells": [
  {
   "cell_type": "code",
   "execution_count": 1,
   "metadata": {},
   "outputs": [],
   "source": [
    "import pandas_datareader as dr\n",
    "from bokeh.plotting import figure, output_file, show\n",
    "from bokeh.models import ColumnDataSource, LabelSet, HoverTool\n",
    "from bokeh.resources import INLINE\n",
    "\n",
    "#Select stock (singular ticker) and time period here:\n",
    "stock='AAPL'\n",
    "startdate='2015/01/01'\n",
    "enddate='2020/01/01'"
   ]
  },
  {
   "cell_type": "code",
   "execution_count": 2,
   "metadata": {
    "scrolled": true
   },
   "outputs": [
    {
     "name": "stdout",
     "output_type": "stream",
     "text": [
      "Date\n",
      "2015-01-02    100.216454\n",
      "2015-01-05     97.393181\n",
      "2015-01-06     97.402374\n",
      "2015-01-07     98.768150\n",
      "2015-01-08    102.563072\n",
      "Name: Adj Close, dtype: float64\n"
     ]
    }
   ],
   "source": [
    "#Sources information from Yahoo Finance for stock + ticker\n",
    "def form(startdate,enddate):\n",
    "    return(dr.DataReader(stock,'yahoo',startdate,enddate)['Adj Close'])\n",
    "\n",
    "df=form(startdate,enddate)\n",
    "\n",
    "print(df.head())"
   ]
  },
  {
   "cell_type": "code",
   "execution_count": 5,
   "metadata": {},
   "outputs": [],
   "source": [
    "#Chart + hover tool generated here\n",
    "cds = ColumnDataSource(dict(DateTime=df.index,\n",
    "                       val=df))\n",
    "\n",
    "f=figure(title=f'{stock} Adjusted Close Graph between {startdate} and {enddate}', x_axis_type=\"datetime\")\n",
    "f.xaxis.axis_label = 'Date'\n",
    "f.yaxis.axis_label = 'Adj. Close'\n",
    "\n",
    "f.line(x='DateTime',y='val', color='green', line_width=2, source=cds)\n",
    "\n",
    "hover=HoverTool(tooltips=[('Date: ', '@DateTime{%F}'),\n",
    "                          (\"Adj. Close: \",\"$@{val}{0.2f}\")],\n",
    "          formatters={'@DateTime': 'datetime',\n",
    "                      'Adj. Close' : 'printf'},\n",
    "               mode='vline')\n",
    "\n",
    "f.add_tools(hover)\n",
    "\n",
    "output_file(f'{stock}.html', mode=\"inline\")\n",
    "\n",
    "show(f)"
   ]
  }
 ],
 "metadata": {
  "kernelspec": {
   "display_name": "Python 3",
   "language": "python",
   "name": "python3"
  },
  "language_info": {
   "codemirror_mode": {
    "name": "ipython",
    "version": 3
   },
   "file_extension": ".py",
   "mimetype": "text/x-python",
   "name": "python",
   "nbconvert_exporter": "python",
   "pygments_lexer": "ipython3",
   "version": "3.7.4"
  }
 },
 "nbformat": 4,
 "nbformat_minor": 2
}
