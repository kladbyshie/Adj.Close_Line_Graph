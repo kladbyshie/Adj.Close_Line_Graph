{
 "cells": [
  {
   "cell_type": "code",
   "execution_count": 1,
   "metadata": {},
   "outputs": [],
   "source": [
    "import pandas_datareader as dr\n",
    "from bokeh.plotting import figure, output_file, show\n",
    "from bokeh.models import ColumnDataSource, HoverTool\n",
    "from bokeh.resources import INLINE\n",
    "from bokeh.palettes import Category10\n",
    "import itertools\n",
    "\n",
    "#Select stocks and time period here:\n",
    "stocks=['FB','AAPL','AMZN','NFLX','GOOG']\n",
    "startdate='2019/01/01'\n",
    "enddate='2020/01/01'"
   ]
  },
  {
   "cell_type": "code",
   "execution_count": 41,
   "metadata": {
    "scrolled": true
   },
   "outputs": [
    {
     "name": "stdout",
     "output_type": "stream",
     "text": [
      "Symbols             FB        AAPL         AMZN        NFLX         GOOG\n",
      "DateTime                                                                \n",
      "2019-01-02  135.679993  155.214005  1539.130005  267.660004  1045.849976\n",
      "2019-01-03  131.740005  139.753540  1500.280029  271.200012  1016.059998\n",
      "2019-01-04  137.949997  145.719513  1575.390015  297.570007  1070.709961\n",
      "2019-01-07  138.050003  145.395203  1629.510010  315.339996  1068.390015\n",
      "2019-01-08  142.529999  148.166870  1656.579956  320.269989  1076.280029\n"
     ]
    }
   ],
   "source": [
    "#Sources information from Yahoo Finance for stock + ticker\n",
    "def form(startdate,enddate):\n",
    "    return(dr.DataReader(stocks,'yahoo',startdate,enddate)['Adj Close'])\n",
    "\n",
    "df=form(startdate,enddate)\n",
    "df['DateTime']=df.index\n",
    "df.set_index('DateTime', inplace=True)\n",
    "print(df.head())"
   ]
  },
  {
   "cell_type": "code",
   "execution_count": 7,
   "metadata": {},
   "outputs": [
    {
     "data": {
      "text/plain": [
       "'<generator object color_gen at 0x000001979A065D48>'"
      ]
     },
     "execution_count": 7,
     "metadata": {},
     "output_type": "execute_result"
    }
   ],
   "source": [
    "#Generates colors from the Category10 list from the bokeh.palettes library (for the chart)\n",
    "def color_gen():\n",
    "    yield from itertools.cycle(Category10[10])\n",
    "color = color_gen()\n",
    "str(color)"
   ]
  },
  {
   "cell_type": "code",
   "execution_count": 45,
   "metadata": {},
   "outputs": [],
   "source": [
    "#chart + hover tool generated here\n",
    "cds = ColumnDataSource(df)\n",
    "\n",
    "f=figure(title=f'djusted Close Graph between {startdate} and {enddate}', x_axis_type=\"datetime\")\n",
    "f.xaxis.axis_label = 'Date'\n",
    "f.yaxis.axis_label = 'Adj. Close'\n",
    "\n",
    "for item, color in zip(stocks, color_gen()):\n",
    "    f.line(x='DateTime', y=item, color=color, line_width=2, source=cds, legend_label=item)\n",
    "\n",
    "tooltips = [('Date: ', '@DateTime{%F}')]\n",
    "for item in stocks:\n",
    "    tooltips.append((f'{item} adj. close: ', (f'@{item}' + '{$0.2f}')))\n",
    "    \n",
    "hover=HoverTool(tooltips=tooltips,\n",
    "          formatters={'@DateTime': 'datetime'})\n",
    "\n",
    "f.legend.location = \"top_left\"\n",
    "f.legend.click_policy=\"hide\"\n",
    "f.add_tools(hover)\n",
    "\n",
    "#output file is generated here\n",
    "output_file(f'{stocks}.html', mode=\"inline\")\n",
    "\n",
    "show(f)"
   ]
  },
  {
   "cell_type": "code",
   "execution_count": null,
   "metadata": {},
   "outputs": [],
   "source": []
  }
 ],
 "metadata": {
  "kernelspec": {
   "display_name": "Python 3",
   "language": "python",
   "name": "python3"
  },
  "language_info": {
   "codemirror_mode": {
    "name": "ipython",
    "version": 3
   },
   "file_extension": ".py",
   "mimetype": "text/x-python",
   "name": "python",
   "nbconvert_exporter": "python",
   "pygments_lexer": "ipython3",
   "version": "3.7.4"
  }
 },
 "nbformat": 4,
 "nbformat_minor": 2
}
